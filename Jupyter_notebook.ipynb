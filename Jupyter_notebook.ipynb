{
 "cells": [
  {
   "cell_type": "markdown",
   "metadata": {},
   "source": [
    "# Car detection project"
   ]
  },
  {
   "cell_type": "markdown",
   "metadata": {},
   "source": [
    "### 1. Load packages"
   ]
  },
  {
   "cell_type": "code",
   "execution_count": 2,
   "metadata": {
    "scrolled": false
   },
   "outputs": [],
   "source": [
    "import urllib\n",
    "from IPython.display import Image, display, clear_output\n",
    "from collections import Counter\n",
    "\n",
    "import matplotlib.pyplot as plt\n",
    "%matplotlib inline\n",
    "import seaborn as sns \n",
    "sns.set_style('whitegrid')\n",
    "\n",
    "import json\n",
    "import numpy as np\n",
    "from sklearn.metrics import classification_report, confusion_matrix\n",
    "\n",
    "import pickle"
   ]
  },
  {
   "cell_type": "code",
   "execution_count": 3,
   "metadata": {},
   "outputs": [
    {
     "name": "stderr",
     "output_type": "stream",
     "text": [
      "Using TensorFlow backend.\n"
     ]
    },
    {
     "data": {
      "text/plain": [
       "'2.3.1'"
      ]
     },
     "execution_count": 3,
     "metadata": {},
     "output_type": "execute_result"
    }
   ],
   "source": [
    "import keras\n",
    "keras.__version__"
   ]
  },
  {
   "cell_type": "code",
   "execution_count": 4,
   "metadata": {},
   "outputs": [],
   "source": [
    "from keras import backend as K\n",
    "K.set_image_data_format('channels_last')"
   ]
  },
  {
   "cell_type": "code",
   "execution_count": 5,
   "metadata": {
    "scrolled": false
   },
   "outputs": [],
   "source": [
    "import os\n",
    "import h5py\n",
    "import numpy as np\n",
    "import pandas as pd\n",
    "\n",
    "from keras.applications.vgg16 import VGG16\n",
    "from keras.preprocessing.image import ImageDataGenerator, array_to_img, img_to_array, load_img\n",
    "from keras.regularizers import l2, l1\n",
    "from keras.models import Sequential, load_model\n",
    "from keras.layers import Convolution2D, MaxPooling2D, ZeroPadding2D\n",
    "from keras.layers import Activation, Dropout, Flatten, Dense\n",
    "from keras.utils.np_utils import to_categorical\n",
    "from keras import optimizers\n",
    "from keras.callbacks import ModelCheckpoint, History"
   ]
  },
  {
   "cell_type": "markdown",
   "metadata": {},
   "source": [
    "### 2. Define functions for a model"
   ]
  },
  {
   "cell_type": "code",
   "execution_count": 5,
   "metadata": {},
   "outputs": [],
   "source": [
    "# Using VGG16\n",
    "\n",
    "from keras.applications.vgg16 import VGG16\n",
    "\n",
    "def load_vgg16(weights_path='../vgg_weights/vgg16_weights_tf_no_top.h5'):\n",
    "    \n",
    "    model = Sequential()\n",
    "    model.add(ZeroPadding2D((1,1),input_shape=(224, 224, 3)))\n",
    "    model.add(Convolution2D(64, 3, 3, activation='relu'))\n",
    "    model.add(ZeroPadding2D((1,1)))\n",
    "    model.add(Convolution2D(64, 3, 3, activation='relu'))\n",
    "    model.add(MaxPooling2D((2,2), strides=(2,2)))\n",
    "\n",
    "    model.add(ZeroPadding2D((1,1)))\n",
    "    model.add(Convolution2D(128, 3, 3, activation='relu'))\n",
    "    model.add(ZeroPadding2D((1,1)))\n",
    "    model.add(Convolution2D(128, 3, 3, activation='relu'))\n",
    "    model.add(MaxPooling2D((2,2), strides=(2,2)))\n",
    "\n",
    "    model.add(ZeroPadding2D((1,1)))\n",
    "    model.add(Convolution2D(256, 3, 3, activation='relu'))\n",
    "    model.add(ZeroPadding2D((1,1)))\n",
    "    model.add(Convolution2D(256, 3, 3, activation='relu'))\n",
    "    model.add(ZeroPadding2D((1,1)))\n",
    "    model.add(Convolution2D(256, 3, 3, activation='relu'))\n",
    "    model.add(MaxPooling2D((2,2), strides=(2,2)))\n",
    "\n",
    "    model.add(ZeroPadding2D((1,1)))\n",
    "    model.add(Convolution2D(512, 3, 3, activation='relu'))\n",
    "    model.add(ZeroPadding2D((1,1)))\n",
    "    model.add(Convolution2D(512, 3, 3, activation='relu'))\n",
    "    model.add(ZeroPadding2D((1,1)))\n",
    "    model.add(Convolution2D(512, 3, 3, activation='relu'))\n",
    "    model.add(MaxPooling2D((2,2), strides=(2,2)))\n",
    "\n",
    "    model.add(ZeroPadding2D((1,1)))\n",
    "    model.add(Convolution2D(512, 3, 3, activation='relu'))\n",
    "    model.add(ZeroPadding2D((1,1)))\n",
    "    model.add(Convolution2D(512, 3, 3, activation='relu'))\n",
    "    model.add(ZeroPadding2D((1,1)))\n",
    "    model.add(Convolution2D(512, 3, 3, activation='relu'))\n",
    "    model.add(MaxPooling2D((2,2), strides=(2,2)))\n",
    "    \n",
    "    model.load_weights(weights_path)\n",
    "    \n",
    "    return model"
   ]
  },
  {
   "cell_type": "code",
   "execution_count": 6,
   "metadata": {},
   "outputs": [
    {
     "name": "stdout",
     "output_type": "stream",
     "text": [
      "WARNING:tensorflow:From C:\\ProgramData\\Anaconda3\\envs\\py37_test\\lib\\site-packages\\keras\\backend\\tensorflow_backend.py:4070: The name tf.nn.max_pool is deprecated. Please use tf.nn.max_pool2d instead.\n",
      "\n"
     ]
    },
    {
     "name": "stderr",
     "output_type": "stream",
     "text": [
      "C:\\ProgramData\\Anaconda3\\envs\\py37_test\\lib\\site-packages\\ipykernel_launcher.py:7: UserWarning: Update your `Conv2D` call to the Keras 2 API: `Conv2D(64, (3, 3), activation=\"relu\")`\n",
      "  import sys\n",
      "C:\\ProgramData\\Anaconda3\\envs\\py37_test\\lib\\site-packages\\ipykernel_launcher.py:9: UserWarning: Update your `Conv2D` call to the Keras 2 API: `Conv2D(64, (3, 3), activation=\"relu\")`\n",
      "  if __name__ == '__main__':\n",
      "C:\\ProgramData\\Anaconda3\\envs\\py37_test\\lib\\site-packages\\ipykernel_launcher.py:13: UserWarning: Update your `Conv2D` call to the Keras 2 API: `Conv2D(128, (3, 3), activation=\"relu\")`\n",
      "  del sys.path[0]\n",
      "C:\\ProgramData\\Anaconda3\\envs\\py37_test\\lib\\site-packages\\ipykernel_launcher.py:15: UserWarning: Update your `Conv2D` call to the Keras 2 API: `Conv2D(128, (3, 3), activation=\"relu\")`\n",
      "  from ipykernel import kernelapp as app\n",
      "C:\\ProgramData\\Anaconda3\\envs\\py37_test\\lib\\site-packages\\ipykernel_launcher.py:19: UserWarning: Update your `Conv2D` call to the Keras 2 API: `Conv2D(256, (3, 3), activation=\"relu\")`\n",
      "C:\\ProgramData\\Anaconda3\\envs\\py37_test\\lib\\site-packages\\ipykernel_launcher.py:21: UserWarning: Update your `Conv2D` call to the Keras 2 API: `Conv2D(256, (3, 3), activation=\"relu\")`\n",
      "C:\\ProgramData\\Anaconda3\\envs\\py37_test\\lib\\site-packages\\ipykernel_launcher.py:23: UserWarning: Update your `Conv2D` call to the Keras 2 API: `Conv2D(256, (3, 3), activation=\"relu\")`\n",
      "C:\\ProgramData\\Anaconda3\\envs\\py37_test\\lib\\site-packages\\ipykernel_launcher.py:27: UserWarning: Update your `Conv2D` call to the Keras 2 API: `Conv2D(512, (3, 3), activation=\"relu\")`\n",
      "C:\\ProgramData\\Anaconda3\\envs\\py37_test\\lib\\site-packages\\ipykernel_launcher.py:29: UserWarning: Update your `Conv2D` call to the Keras 2 API: `Conv2D(512, (3, 3), activation=\"relu\")`\n",
      "C:\\ProgramData\\Anaconda3\\envs\\py37_test\\lib\\site-packages\\ipykernel_launcher.py:31: UserWarning: Update your `Conv2D` call to the Keras 2 API: `Conv2D(512, (3, 3), activation=\"relu\")`\n",
      "C:\\ProgramData\\Anaconda3\\envs\\py37_test\\lib\\site-packages\\ipykernel_launcher.py:35: UserWarning: Update your `Conv2D` call to the Keras 2 API: `Conv2D(512, (3, 3), activation=\"relu\")`\n",
      "C:\\ProgramData\\Anaconda3\\envs\\py37_test\\lib\\site-packages\\ipykernel_launcher.py:37: UserWarning: Update your `Conv2D` call to the Keras 2 API: `Conv2D(512, (3, 3), activation=\"relu\")`\n",
      "C:\\ProgramData\\Anaconda3\\envs\\py37_test\\lib\\site-packages\\ipykernel_launcher.py:39: UserWarning: Update your `Conv2D` call to the Keras 2 API: `Conv2D(512, (3, 3), activation=\"relu\")`\n"
     ]
    },
    {
     "name": "stdout",
     "output_type": "stream",
     "text": [
      "Model: \"sequential_1\"\n",
      "_________________________________________________________________\n",
      "Layer (type)                 Output Shape              Param #   \n",
      "=================================================================\n",
      "zero_padding2d_1 (ZeroPaddin (None, 226, 226, 3)       0         \n",
      "_________________________________________________________________\n",
      "conv2d_1 (Conv2D)            (None, 224, 224, 64)      1792      \n",
      "_________________________________________________________________\n",
      "zero_padding2d_2 (ZeroPaddin (None, 226, 226, 64)      0         \n",
      "_________________________________________________________________\n",
      "conv2d_2 (Conv2D)            (None, 224, 224, 64)      36928     \n",
      "_________________________________________________________________\n",
      "max_pooling2d_1 (MaxPooling2 (None, 112, 112, 64)      0         \n",
      "_________________________________________________________________\n",
      "zero_padding2d_3 (ZeroPaddin (None, 114, 114, 64)      0         \n",
      "_________________________________________________________________\n",
      "conv2d_3 (Conv2D)            (None, 112, 112, 128)     73856     \n",
      "_________________________________________________________________\n",
      "zero_padding2d_4 (ZeroPaddin (None, 114, 114, 128)     0         \n",
      "_________________________________________________________________\n",
      "conv2d_4 (Conv2D)            (None, 112, 112, 128)     147584    \n",
      "_________________________________________________________________\n",
      "max_pooling2d_2 (MaxPooling2 (None, 56, 56, 128)       0         \n",
      "_________________________________________________________________\n",
      "zero_padding2d_5 (ZeroPaddin (None, 58, 58, 128)       0         \n",
      "_________________________________________________________________\n",
      "conv2d_5 (Conv2D)            (None, 56, 56, 256)       295168    \n",
      "_________________________________________________________________\n",
      "zero_padding2d_6 (ZeroPaddin (None, 58, 58, 256)       0         \n",
      "_________________________________________________________________\n",
      "conv2d_6 (Conv2D)            (None, 56, 56, 256)       590080    \n",
      "_________________________________________________________________\n",
      "zero_padding2d_7 (ZeroPaddin (None, 58, 58, 256)       0         \n",
      "_________________________________________________________________\n",
      "conv2d_7 (Conv2D)            (None, 56, 56, 256)       590080    \n",
      "_________________________________________________________________\n",
      "max_pooling2d_3 (MaxPooling2 (None, 28, 28, 256)       0         \n",
      "_________________________________________________________________\n",
      "zero_padding2d_8 (ZeroPaddin (None, 30, 30, 256)       0         \n",
      "_________________________________________________________________\n",
      "conv2d_8 (Conv2D)            (None, 28, 28, 512)       1180160   \n",
      "_________________________________________________________________\n",
      "zero_padding2d_9 (ZeroPaddin (None, 30, 30, 512)       0         \n",
      "_________________________________________________________________\n",
      "conv2d_9 (Conv2D)            (None, 28, 28, 512)       2359808   \n",
      "_________________________________________________________________\n",
      "zero_padding2d_10 (ZeroPaddi (None, 30, 30, 512)       0         \n",
      "_________________________________________________________________\n",
      "conv2d_10 (Conv2D)           (None, 28, 28, 512)       2359808   \n",
      "_________________________________________________________________\n",
      "max_pooling2d_4 (MaxPooling2 (None, 14, 14, 512)       0         \n",
      "_________________________________________________________________\n",
      "zero_padding2d_11 (ZeroPaddi (None, 16, 16, 512)       0         \n",
      "_________________________________________________________________\n",
      "conv2d_11 (Conv2D)           (None, 14, 14, 512)       2359808   \n",
      "_________________________________________________________________\n",
      "zero_padding2d_12 (ZeroPaddi (None, 16, 16, 512)       0         \n",
      "_________________________________________________________________\n",
      "conv2d_12 (Conv2D)           (None, 14, 14, 512)       2359808   \n",
      "_________________________________________________________________\n",
      "zero_padding2d_13 (ZeroPaddi (None, 16, 16, 512)       0         \n",
      "_________________________________________________________________\n",
      "conv2d_13 (Conv2D)           (None, 14, 14, 512)       2359808   \n",
      "_________________________________________________________________\n",
      "max_pooling2d_5 (MaxPooling2 (None, 7, 7, 512)         0         \n",
      "=================================================================\n",
      "Total params: 14,714,688\n",
      "Trainable params: 14,714,688\n",
      "Non-trainable params: 0\n",
      "_________________________________________________________________\n"
     ]
    }
   ],
   "source": [
    "model = load_vgg16(weights_path='../vgg_weights/vgg16_weights_tf_no_top.h5')\n",
    "model.summary()"
   ]
  },
  {
   "cell_type": "code",
   "execution_count": 15,
   "metadata": {
    "scrolled": false
   },
   "outputs": [],
   "source": [
    "# Using bottleneck features for better memory consumption\n",
    "\n",
    "def save_bottleneck_features(location):\n",
    "    datagen = ImageDataGenerator(rescale=1./255)  \n",
    "    \n",
    "    model = load_vgg16()\n",
    "    \n",
    "    generator = datagen.flow_from_directory(train_data_dir,\n",
    "                                            target_size=(img_width, img_height),\n",
    "                                            batch_size=1, \n",
    "                                            class_mode=None, \n",
    "                                            shuffle=False) \n",
    "    \n",
    "    bottleneck_features_train = model.predict_generator(generator, nb_train_samples)\n",
    "    #np.save(open(location+'/bottleneck_features_train.npy', 'w'), bottleneck_features_train)\n",
    "    pickle.dump(bottleneck_features_train, open(location+'/bottleneck_features_train.pickle', 'wb'))\n",
    "    \n",
    "    # repeat with the validation data\n",
    "    generator = datagen.flow_from_directory(validation_data_dir,\n",
    "                                           target_size=(img_width, img_height),\n",
    "                                           batch_size=1,\n",
    "                                           class_mode=None,\n",
    "                                           shuffle=False)\n",
    "    bottleneck_features_validation = model.predict_generator(generator, nb_validation_samples)\n",
    "    pickle.dump(bottleneck_features_validation, open(location+'/bottleneck_features_validation.pickle', 'wb'))"
   ]
  },
  {
   "cell_type": "code",
   "execution_count": 16,
   "metadata": {
    "scrolled": false
   },
   "outputs": [],
   "source": [
    "# Metric plotting function\n",
    "\n",
    "def plot_metrics(hist, stop=50):\n",
    "    fig, axes = plt.subplots(nrows=1, ncols=2, figsize=(10,4))\n",
    "                            \n",
    "    axes = axes.flatten()\n",
    "\n",
    "    axes[0].plot(range(stop), hist['acc'], label='Training', color='#FF533D')\n",
    "    axes[0].plot(range(stop), hist['val_acc'], label='Validation', color='#03507E')\n",
    "    axes[0].set_title('Accuracy')\n",
    "    axes[0].set_ylabel('Accuracy')\n",
    "    axes[0].set_xlabel('Epoch')\n",
    "    axes[0].legend(loc='lower right')\n",
    "                             \n",
    "    axes[1].plot(range(stop), hist['loss'], label='Training', color='#FF533D')\n",
    "    axes[1].plot(range(stop), hist['val_loss'], label='Validation', color='#03507E')\n",
    "    axes[1].set_title('Loss')\n",
    "    axes[1].set_ylabel('Loss')\n",
    "    axes[1].set_xlabel('Epoch')\n",
    "    axes[1].legend(loc='upper right')\n",
    "                             \n",
    "    plt.tight_layout();\n",
    "    \n",
    "    print (\"Best Model:\")\n",
    "    print_best_model_results(hist)"
   ]
  },
  {
   "cell_type": "code",
   "execution_count": 19,
   "metadata": {
    "scrolled": false
   },
   "outputs": [],
   "source": [
    "# Training\n",
    "\n",
    "def train_binary_model():\n",
    "\n",
    "    #train_data = np.load(open(location+'/bottleneck_features_train.npy'))\n",
    "    train_data = pickle.load(open(location+'/bottleneck_features_train.pickle', 'rb'))\n",
    "    train_labels = np.array([0] * train_samples[0] + \n",
    "                            [1] * train_samples[1])\n",
    "\n",
    "    #validation_data = np.load(open(location+'/bottleneck_features_validation.npy'))\n",
    "    validation_data = pickle.load(open(location+'/bottleneck_features_validation.pickle', 'rb'))\n",
    "    validation_labels = np.array([0] * validation_samples[0] + \n",
    "                                 [1] * validation_samples[1])\n",
    "    \n",
    "    model = Sequential()\n",
    "    model.add(Flatten(input_shape=train_data.shape[1:])) # 512, 4, 4\n",
    "    model.add(Dense(256, activation = 'relu', W_regularizer=l2(0.001)))\n",
    "    model.add(Dropout(0.5)) \n",
    "    model.add(Dense(1, activation = 'sigmoid')) # should activation be sigmoid for binary problem?\n",
    "\n",
    "    model.compile(optimizers.SGD(lr=0.0001, momentum=0.9),\n",
    "              loss='binary_crossentropy', metrics=['accuracy'])\n",
    "\n",
    "    \n",
    "    checkpoint = ModelCheckpoint(top_model_weights_path, monitor='val_accuracy', \n",
    "                                 verbose=1, save_best_only=True, save_weights_only=True, mode='auto')\n",
    "\n",
    "    fit = model.fit(train_data, train_labels,\n",
    "              nb_epoch=nb_epoch, batch_size=16,\n",
    "              validation_data=(validation_data, validation_labels),\n",
    "              callbacks=[checkpoint])\n",
    "    \n",
    "    #with open(location+'/top_history.txt', 'wb') as f:\n",
    "        #json.dump(fit.history, f)\n",
    "        \n",
    "    pickle.dump(fit.history, open(location+'/top_history.pickle', 'wb'))\n",
    "    \n",
    "    return model, fit.history"
   ]
  },
  {
   "cell_type": "code",
   "execution_count": 20,
   "metadata": {
    "scrolled": false
   },
   "outputs": [],
   "source": [
    "# Finetuning the final model\n",
    "\n",
    "def finetune_binary_model():\n",
    "    model = load_vgg16()\n",
    "\n",
    "    # build a classifier model to put on top of the convolutional model\n",
    "    top_model = Sequential()\n",
    "    top_model.add(Flatten(input_shape=model.output_shape[1:]))\n",
    "    top_model.add(Dense(256, activation='relu', W_regularizer=l2(0.001)))\n",
    "    top_model.add(Dropout(0.5))\n",
    "    top_model.add(Dense(1, activation='sigmoid'))\n",
    "\n",
    "    top_model.load_weights(top_model_weights_path) # load weights_path\n",
    "\n",
    "    # add the model on top of the convolutional base\n",
    "    model.add(top_model)\n",
    "    \n",
    "    # set the first 25 layers (up to the last conv block)\n",
    "    # to non-trainable - weights will not be updated\n",
    "    for layer in model.layers[:25]:\n",
    "        layer.trainable=False\n",
    "\n",
    "    # compile the model with a SGD/momentum optimizer \n",
    "    # and a very slow learning rate\n",
    "    model.compile(loss='binary_crossentropy',\n",
    "                 optimizer = optimizers.SGD(lr=0.00001, momentum=0.9), # reduced learning rate by 1/10\n",
    "                  metrics=['accuracy'])\n",
    "    \n",
    "    # prepare data augmentation configuration\n",
    "    train_datagen = ImageDataGenerator(rescale=1./255,\n",
    "                                       rotation_range=40,\n",
    "                                       width_shift_range=0.2,\n",
    "                                       height_shift_range=0.2,\n",
    "                                       shear_range=0.2,\n",
    "                                       zoom_range=0.2,\n",
    "                                       horizontal_flip=True,\n",
    "                                       fill_mode='nearest')\n",
    "\n",
    "    test_datagen = ImageDataGenerator(rescale=1./255)\n",
    "\n",
    "    train_generator= train_datagen.flow_from_directory(train_data_dir,\n",
    "                                                     target_size=(img_height, img_width),\n",
    "                                                     batch_size=8,\n",
    "                                                     class_mode='binary')\n",
    "\n",
    "    validation_generator = test_datagen.flow_from_directory(validation_data_dir,\n",
    "                                                           target_size=(img_height, img_width),\n",
    "                                                           batch_size=8,\n",
    "                                                           class_mode='binary')\n",
    "    \n",
    "    \n",
    "    checkpoint = ModelCheckpoint(fine_tuned_model_path, monitor='val_accuracy', \n",
    "                                 verbose=1, save_best_only=True, \n",
    "                                 save_weights_only=False, mode='auto')\n",
    "    # fine-tune the model\n",
    "    fit = model.fit_generator(train_generator,\n",
    "                              samples_per_epoch=nb_train_samples,\n",
    "                              nb_epoch=nb_epoch,\n",
    "                              validation_data=validation_generator,\n",
    "                              nb_val_samples=nb_validation_samples,\n",
    "                              verbose=1,\n",
    "                              callbacks=[checkpoint])\n",
    "    \n",
    "    pickle.dump(fit.history, open(location+'/ft_history.pickle', 'wb'))\n",
    "    \n",
    "    return model, fit.history"
   ]
  },
  {
   "cell_type": "code",
   "execution_count": 21,
   "metadata": {
    "scrolled": false
   },
   "outputs": [],
   "source": [
    "# See some results\n",
    "\n",
    "def evaluate_binary_model(model, directory, labels):\n",
    "    datagen = ImageDataGenerator(rescale=1./255)  \n",
    "\n",
    "    generator = datagen.flow_from_directory(directory,\n",
    "                                target_size=(img_height, img_width),\n",
    "                                batch_size=8,\n",
    "                                class_mode='binary', # categorical for multiclass\n",
    "                                shuffle=False)\n",
    "    \n",
    "    predictions = model.predict_generator(generator, len(labels))\n",
    "    \n",
    "    pred_labels = [0 if i <0.5 else 1 for i in predictions]\n",
    "\n",
    "    print ('')\n",
    "    print (classification_report(validation_labels, pred_labels))\n",
    "    print ('')\n",
    "    cm = confusion_matrix(validation_labels, pred_labels)\n",
    "    sns.heatmap(cm, annot=True, fmt='g');"
   ]
  },
  {
   "cell_type": "code",
   "execution_count": 22,
   "metadata": {
    "scrolled": false
   },
   "outputs": [],
   "source": [
    "# See results for every photo\n",
    "\n",
    "def view_images(img_dir, img_list):\n",
    "    for img in img_list:\n",
    "        clear_output()\n",
    "        display(Image(img_dir+img))\n",
    "        num = input(\"c to continue, q to quit\")\n",
    "        if num == 'c':\n",
    "            pass\n",
    "        else:\n",
    "            return 'Finished for now.'"
   ]
  },
  {
   "cell_type": "code",
   "execution_count": 23,
   "metadata": {
    "scrolled": false
   },
   "outputs": [],
   "source": [
    "def print_best_model_results(model_hist):\n",
    "    best_epoch = np.argmax(model_hist['val_accuracy'])\n",
    "    print ('epoch:', best_epoch+1, \\\n",
    "    ', val_acc:', model_hist['val_accuracy'][best_epoch], \\\n",
    "    ', val_loss:', model_hist['val_loss'][best_epoch])"
   ]
  },
  {
   "cell_type": "markdown",
   "metadata": {},
   "source": [
    "### 3. Testing Image Generation"
   ]
  },
  {
   "cell_type": "code",
   "execution_count": 36,
   "metadata": {
    "scrolled": false
   },
   "outputs": [],
   "source": [
    "datagen = ImageDataGenerator(rotation_range=40,\n",
    "                             width_shift_range=0.2,\n",
    "                             height_shift_range=0.2,\n",
    "                             shear_range=0.2,\n",
    "                             zoom_range=0.2,\n",
    "                             horizontal_flip=True,\n",
    "                             fill_mode='nearest') # omitted rescaling to keep the images displayable\n",
    "\n",
    "img = load_img('../data/detect_cars/training/cars/0040.jpg') # this is a PIL image \n",
    "x = img_to_array(img) \n",
    "x = x.reshape((1,) + x.shape)\n",
    "\n",
    "# the .flow() command below generates batches of randomly transformed images\n",
    "# and saves the results to the 'preview/' directory\n",
    "os.makedirs('preview')\n",
    "i = 0\n",
    "for batch in datagen.flow(x, batch_size=1,\n",
    "                         save_to_dir='preview', save_prefix='car',\n",
    "                         save_format='jpg'):\n",
    "    i +=1\n",
    "    if i > 30:\n",
    "        break # otherwise the generator would loop indefinitely"
   ]
  },
  {
   "cell_type": "markdown",
   "metadata": {},
   "source": [
    "### 4. Fit the data"
   ]
  },
  {
   "cell_type": "code",
   "execution_count": 6,
   "metadata": {
    "scrolled": false
   },
   "outputs": [],
   "source": [
    "# Path to the model weights file\n",
    "location = '../data'\n",
    "top_model_weights_path=location+'/top_model_weights.h5' # will be saved into when we create our model\n",
    "# model_path = location + '/initial_data2_model.h5'\n",
    "fine_tuned_model_path = location+'/ft_model.h5'\n",
    "\n",
    "# Dimensions of our images\n",
    "img_width, img_height = 224, 224\n",
    "\n",
    "train_data_dir = location+'/training'\n",
    "validation_data_dir = location+'/validation'\n",
    "\n",
    "train_samples = [len(os.listdir(train_data_dir+'/'+i)) for i in sorted(os.listdir(train_data_dir))]\n",
    "nb_train_samples = sum(train_samples)\n",
    "validation_samples = [len(os.listdir(validation_data_dir+'/'+i)) for i in sorted(os.listdir(validation_data_dir))]\n",
    "nb_validation_samples = sum(validation_samples)\n",
    "\n",
    "nb_epoch = 50"
   ]
  },
  {
   "cell_type": "code",
   "execution_count": 25,
   "metadata": {
    "scrolled": false
   },
   "outputs": [
    {
     "name": "stderr",
     "output_type": "stream",
     "text": [
      "C:\\ProgramData\\Anaconda3\\envs\\py37_test\\lib\\site-packages\\ipykernel_launcher.py:7: UserWarning: Update your `Conv2D` call to the Keras 2 API: `Conv2D(64, (3, 3), activation=\"relu\")`\n",
      "  import sys\n",
      "C:\\ProgramData\\Anaconda3\\envs\\py37_test\\lib\\site-packages\\ipykernel_launcher.py:9: UserWarning: Update your `Conv2D` call to the Keras 2 API: `Conv2D(64, (3, 3), activation=\"relu\")`\n",
      "  if __name__ == '__main__':\n",
      "C:\\ProgramData\\Anaconda3\\envs\\py37_test\\lib\\site-packages\\ipykernel_launcher.py:13: UserWarning: Update your `Conv2D` call to the Keras 2 API: `Conv2D(128, (3, 3), activation=\"relu\")`\n",
      "  del sys.path[0]\n",
      "C:\\ProgramData\\Anaconda3\\envs\\py37_test\\lib\\site-packages\\ipykernel_launcher.py:15: UserWarning: Update your `Conv2D` call to the Keras 2 API: `Conv2D(128, (3, 3), activation=\"relu\")`\n",
      "  from ipykernel import kernelapp as app\n",
      "C:\\ProgramData\\Anaconda3\\envs\\py37_test\\lib\\site-packages\\ipykernel_launcher.py:19: UserWarning: Update your `Conv2D` call to the Keras 2 API: `Conv2D(256, (3, 3), activation=\"relu\")`\n",
      "C:\\ProgramData\\Anaconda3\\envs\\py37_test\\lib\\site-packages\\ipykernel_launcher.py:21: UserWarning: Update your `Conv2D` call to the Keras 2 API: `Conv2D(256, (3, 3), activation=\"relu\")`\n",
      "C:\\ProgramData\\Anaconda3\\envs\\py37_test\\lib\\site-packages\\ipykernel_launcher.py:23: UserWarning: Update your `Conv2D` call to the Keras 2 API: `Conv2D(256, (3, 3), activation=\"relu\")`\n",
      "C:\\ProgramData\\Anaconda3\\envs\\py37_test\\lib\\site-packages\\ipykernel_launcher.py:27: UserWarning: Update your `Conv2D` call to the Keras 2 API: `Conv2D(512, (3, 3), activation=\"relu\")`\n",
      "C:\\ProgramData\\Anaconda3\\envs\\py37_test\\lib\\site-packages\\ipykernel_launcher.py:29: UserWarning: Update your `Conv2D` call to the Keras 2 API: `Conv2D(512, (3, 3), activation=\"relu\")`\n",
      "C:\\ProgramData\\Anaconda3\\envs\\py37_test\\lib\\site-packages\\ipykernel_launcher.py:31: UserWarning: Update your `Conv2D` call to the Keras 2 API: `Conv2D(512, (3, 3), activation=\"relu\")`\n",
      "C:\\ProgramData\\Anaconda3\\envs\\py37_test\\lib\\site-packages\\ipykernel_launcher.py:35: UserWarning: Update your `Conv2D` call to the Keras 2 API: `Conv2D(512, (3, 3), activation=\"relu\")`\n",
      "C:\\ProgramData\\Anaconda3\\envs\\py37_test\\lib\\site-packages\\ipykernel_launcher.py:37: UserWarning: Update your `Conv2D` call to the Keras 2 API: `Conv2D(512, (3, 3), activation=\"relu\")`\n",
      "C:\\ProgramData\\Anaconda3\\envs\\py37_test\\lib\\site-packages\\ipykernel_launcher.py:39: UserWarning: Update your `Conv2D` call to the Keras 2 API: `Conv2D(512, (3, 3), activation=\"relu\")`\n"
     ]
    },
    {
     "name": "stdout",
     "output_type": "stream",
     "text": [
      "Found 4138 images belonging to 2 classes.\n",
      "WARNING:tensorflow:From C:\\ProgramData\\Anaconda3\\envs\\py37_test\\lib\\site-packages\\keras\\backend\\tensorflow_backend.py:422: The name tf.global_variables is deprecated. Please use tf.compat.v1.global_variables instead.\n",
      "\n",
      "Found 1231 images belonging to 2 classes.\n"
     ]
    }
   ],
   "source": [
    "# Generate bottleneck features\n",
    "save_bottleneck_features(location)"
   ]
  },
  {
   "cell_type": "code",
   "execution_count": 26,
   "metadata": {
    "scrolled": true
   },
   "outputs": [
    {
     "name": "stdout",
     "output_type": "stream",
     "text": [
      "WARNING:tensorflow:From C:\\ProgramData\\Anaconda3\\envs\\py37_test\\lib\\site-packages\\tensorflow\\python\\ops\\nn_impl.py:180: add_dispatch_support.<locals>.wrapper (from tensorflow.python.ops.array_ops) is deprecated and will be removed in a future version.\n",
      "Instructions for updating:\n",
      "Use tf.where in 2.0, which has the same broadcast rule as np.where\n"
     ]
    },
    {
     "name": "stderr",
     "output_type": "stream",
     "text": [
      "C:\\ProgramData\\Anaconda3\\envs\\py37_test\\lib\\site-packages\\ipykernel_launcher.py:15: UserWarning: Update your `Dense` call to the Keras 2 API: `Dense(256, activation=\"relu\", kernel_regularizer=<keras.reg...)`\n",
      "  from ipykernel import kernelapp as app\n",
      "C:\\ProgramData\\Anaconda3\\envs\\py37_test\\lib\\site-packages\\ipykernel_launcher.py:29: UserWarning: The `nb_epoch` argument in `fit` has been renamed `epochs`.\n"
     ]
    },
    {
     "name": "stdout",
     "output_type": "stream",
     "text": [
      "Train on 4138 samples, validate on 1231 samples\n",
      "Epoch 1/50\n",
      "4138/4138 [==============================] - 6s 1ms/step - loss: 0.9087 - accuracy: 0.8221 - val_loss: 0.7423 - val_accuracy: 0.9269\n",
      "\n",
      "Epoch 00001: val_accuracy improved from -inf to 0.92689, saving model to ../data/data0a/top_model_weights.h5\n",
      "Epoch 2/50\n",
      "4138/4138 [==============================] - 4s 1ms/step - loss: 0.7475 - accuracy: 0.9091 - val_loss: 0.6867 - val_accuracy: 0.9439\n",
      "\n",
      "Epoch 00002: val_accuracy improved from 0.92689 to 0.94395, saving model to ../data/data0a/top_model_weights.h5\n",
      "Epoch 3/50\n",
      "4138/4138 [==============================] - 4s 1ms/step - loss: 0.7016 - accuracy: 0.9311 - val_loss: 0.6890 - val_accuracy: 0.9423\n",
      "\n",
      "Epoch 00003: val_accuracy did not improve from 0.94395\n",
      "Epoch 4/50\n",
      "4138/4138 [==============================] - 4s 1ms/step - loss: 0.6762 - accuracy: 0.9422 - val_loss: 0.6553 - val_accuracy: 0.9480\n",
      "\n",
      "Epoch 00004: val_accuracy improved from 0.94395 to 0.94801, saving model to ../data/data0a/top_model_weights.h5\n",
      "Epoch 5/50\n",
      "4138/4138 [==============================] - 4s 1ms/step - loss: 0.6632 - accuracy: 0.9485 - val_loss: 0.6471 - val_accuracy: 0.9594\n",
      "\n",
      "Epoch 00005: val_accuracy improved from 0.94801 to 0.95938, saving model to ../data/data0a/top_model_weights.h5\n",
      "Epoch 6/50\n",
      "4138/4138 [==============================] - 4s 1ms/step - loss: 0.6460 - accuracy: 0.9534 - val_loss: 0.6395 - val_accuracy: 0.9578\n",
      "\n",
      "Epoch 00006: val_accuracy did not improve from 0.95938\n",
      "Epoch 7/50\n",
      "4138/4138 [==============================] - 4s 1ms/step - loss: 0.6433 - accuracy: 0.9538 - val_loss: 0.6401 - val_accuracy: 0.9513\n",
      "\n",
      "Epoch 00007: val_accuracy did not improve from 0.95938\n",
      "Epoch 8/50\n",
      "4138/4138 [==============================] - 4s 1ms/step - loss: 0.6290 - accuracy: 0.9572 - val_loss: 0.6325 - val_accuracy: 0.9651\n",
      "\n",
      "Epoch 00008: val_accuracy improved from 0.95938 to 0.96507, saving model to ../data/data0a/top_model_weights.h5\n",
      "Epoch 9/50\n",
      "4138/4138 [==============================] - 4s 1ms/step - loss: 0.6149 - accuracy: 0.9662 - val_loss: 0.6244 - val_accuracy: 0.9610\n",
      "\n",
      "Epoch 00009: val_accuracy did not improve from 0.96507\n",
      "Epoch 10/50\n",
      "4138/4138 [==============================] - 4s 1ms/step - loss: 0.6134 - accuracy: 0.9587 - val_loss: 0.6240 - val_accuracy: 0.9667\n",
      "\n",
      "Epoch 00010: val_accuracy improved from 0.96507 to 0.96669, saving model to ../data/data0a/top_model_weights.h5\n",
      "Epoch 11/50\n",
      "4138/4138 [==============================] - 4s 1ms/step - loss: 0.6089 - accuracy: 0.9645 - val_loss: 0.6182 - val_accuracy: 0.9618\n",
      "\n",
      "Epoch 00011: val_accuracy did not improve from 0.96669\n",
      "Epoch 12/50\n",
      "4138/4138 [==============================] - 4s 1ms/step - loss: 0.6051 - accuracy: 0.9623 - val_loss: 0.6189 - val_accuracy: 0.9626\n",
      "\n",
      "Epoch 00012: val_accuracy did not improve from 0.96669\n",
      "Epoch 13/50\n",
      "4138/4138 [==============================] - 4s 1ms/step - loss: 0.6028 - accuracy: 0.9667 - val_loss: 0.6160 - val_accuracy: 0.9651\n",
      "\n",
      "Epoch 00013: val_accuracy did not improve from 0.96669\n",
      "Epoch 14/50\n",
      "4138/4138 [==============================] - 4s 972us/step - loss: 0.5937 - accuracy: 0.9703 - val_loss: 0.6144 - val_accuracy: 0.9643\n",
      "\n",
      "Epoch 00014: val_accuracy did not improve from 0.96669\n",
      "Epoch 15/50\n",
      "4138/4138 [==============================] - 4s 1ms/step - loss: 0.5902 - accuracy: 0.9710 - val_loss: 0.6132 - val_accuracy: 0.9651\n",
      "\n",
      "Epoch 00015: val_accuracy did not improve from 0.96669\n",
      "Epoch 16/50\n",
      "4138/4138 [==============================] - 4s 1ms/step - loss: 0.5917 - accuracy: 0.9698 - val_loss: 0.6133 - val_accuracy: 0.9626\n",
      "\n",
      "Epoch 00016: val_accuracy did not improve from 0.96669\n",
      "Epoch 17/50\n",
      "4138/4138 [==============================] - 4s 1ms/step - loss: 0.5861 - accuracy: 0.9703 - val_loss: 0.6171 - val_accuracy: 0.9659\n",
      "\n",
      "Epoch 00017: val_accuracy did not improve from 0.96669\n",
      "Epoch 18/50\n",
      "4138/4138 [==============================] - 4s 1ms/step - loss: 0.5820 - accuracy: 0.9758 - val_loss: 0.6116 - val_accuracy: 0.9626\n",
      "\n",
      "Epoch 00018: val_accuracy did not improve from 0.96669\n",
      "Epoch 19/50\n",
      "4138/4138 [==============================] - 4s 1ms/step - loss: 0.5760 - accuracy: 0.9770 - val_loss: 0.6065 - val_accuracy: 0.9643\n",
      "\n",
      "Epoch 00019: val_accuracy did not improve from 0.96669\n",
      "Epoch 20/50\n",
      "4138/4138 [==============================] - 4s 975us/step - loss: 0.5742 - accuracy: 0.9751 - val_loss: 0.6056 - val_accuracy: 0.9667\n",
      "\n",
      "Epoch 00020: val_accuracy did not improve from 0.96669\n",
      "Epoch 21/50\n",
      "4138/4138 [==============================] - 4s 1ms/step - loss: 0.5722 - accuracy: 0.9754 - val_loss: 0.6048 - val_accuracy: 0.9659\n",
      "\n",
      "Epoch 00021: val_accuracy did not improve from 0.96669\n",
      "Epoch 22/50\n",
      "4138/4138 [==============================] - 4s 1ms/step - loss: 0.5681 - accuracy: 0.9783 - val_loss: 0.6044 - val_accuracy: 0.9675\n",
      "\n",
      "Epoch 00022: val_accuracy improved from 0.96669 to 0.96751, saving model to ../data/data0a/top_model_weights.h5\n",
      "Epoch 23/50\n",
      "4138/4138 [==============================] - 4s 1ms/step - loss: 0.5651 - accuracy: 0.9807 - val_loss: 0.6045 - val_accuracy: 0.9667\n",
      "\n",
      "Epoch 00023: val_accuracy did not improve from 0.96751\n",
      "Epoch 24/50\n",
      "4138/4138 [==============================] - 4s 1ms/step - loss: 0.5631 - accuracy: 0.9807 - val_loss: 0.6044 - val_accuracy: 0.9643\n",
      "\n",
      "Epoch 00024: val_accuracy did not improve from 0.96751\n",
      "Epoch 25/50\n",
      "4138/4138 [==============================] - 4s 1ms/step - loss: 0.5585 - accuracy: 0.9812 - val_loss: 0.6009 - val_accuracy: 0.9651\n",
      "\n",
      "Epoch 00025: val_accuracy did not improve from 0.96751\n",
      "Epoch 26/50\n",
      "4138/4138 [==============================] - 4s 1ms/step - loss: 0.5587 - accuracy: 0.9795 - val_loss: 0.5990 - val_accuracy: 0.9691\n",
      "\n",
      "Epoch 00026: val_accuracy improved from 0.96751 to 0.96913, saving model to ../data/data0a/top_model_weights.h5\n",
      "Epoch 27/50\n",
      "4138/4138 [==============================] - 4s 1ms/step - loss: 0.5551 - accuracy: 0.9828 - val_loss: 0.6005 - val_accuracy: 0.9683\n",
      "\n",
      "Epoch 00027: val_accuracy did not improve from 0.96913\n",
      "Epoch 28/50\n",
      "4138/4138 [==============================] - 4s 1ms/step - loss: 0.5514 - accuracy: 0.9853 - val_loss: 0.5984 - val_accuracy: 0.9667\n",
      "\n",
      "Epoch 00028: val_accuracy did not improve from 0.96913\n",
      "Epoch 29/50\n",
      "4138/4138 [==============================] - 4s 1ms/step - loss: 0.5482 - accuracy: 0.9843 - val_loss: 0.5981 - val_accuracy: 0.9691\n",
      "\n",
      "Epoch 00029: val_accuracy did not improve from 0.96913\n",
      "Epoch 30/50\n",
      "4138/4138 [==============================] - 4s 1ms/step - loss: 0.5477 - accuracy: 0.9831 - val_loss: 0.5964 - val_accuracy: 0.9699\n",
      "\n",
      "Epoch 00030: val_accuracy improved from 0.96913 to 0.96994, saving model to ../data/data0a/top_model_weights.h5\n",
      "Epoch 31/50\n",
      "4138/4138 [==============================] - 4s 1ms/step - loss: 0.5457 - accuracy: 0.9838 - val_loss: 0.5969 - val_accuracy: 0.9691\n",
      "\n",
      "Epoch 00031: val_accuracy did not improve from 0.96994\n",
      "Epoch 32/50\n",
      "4138/4138 [==============================] - 4s 1ms/step - loss: 0.5447 - accuracy: 0.9865 - val_loss: 0.5953 - val_accuracy: 0.9667\n",
      "\n",
      "Epoch 00032: val_accuracy did not improve from 0.96994\n",
      "Epoch 33/50\n",
      "4138/4138 [==============================] - 4s 1ms/step - loss: 0.5421 - accuracy: 0.9857 - val_loss: 0.5945 - val_accuracy: 0.9675\n",
      "\n",
      "Epoch 00033: val_accuracy did not improve from 0.96994\n",
      "Epoch 34/50\n",
      "4138/4138 [==============================] - 4s 1ms/step - loss: 0.5405 - accuracy: 0.9865 - val_loss: 0.5951 - val_accuracy: 0.9691\n",
      "\n",
      "Epoch 00034: val_accuracy did not improve from 0.96994\n",
      "Epoch 35/50\n",
      "4138/4138 [==============================] - 4s 975us/step - loss: 0.5364 - accuracy: 0.9862 - val_loss: 0.5941 - val_accuracy: 0.9699\n",
      "\n",
      "Epoch 00035: val_accuracy did not improve from 0.96994\n",
      "Epoch 36/50\n",
      "4138/4138 [==============================] - 4s 1ms/step - loss: 0.5353 - accuracy: 0.9884 - val_loss: 0.5984 - val_accuracy: 0.9651\n",
      "\n",
      "Epoch 00036: val_accuracy did not improve from 0.96994\n",
      "Epoch 37/50\n",
      "4138/4138 [==============================] - 4s 1ms/step - loss: 0.5351 - accuracy: 0.9884 - val_loss: 0.5933 - val_accuracy: 0.9699\n",
      "\n",
      "Epoch 00037: val_accuracy did not improve from 0.96994\n",
      "Epoch 38/50\n",
      "4138/4138 [==============================] - 4s 1ms/step - loss: 0.5288 - accuracy: 0.9891 - val_loss: 0.5915 - val_accuracy: 0.9699\n",
      "\n",
      "Epoch 00038: val_accuracy did not improve from 0.96994\n",
      "Epoch 39/50\n"
     ]
    },
    {
     "name": "stdout",
     "output_type": "stream",
     "text": [
      "4138/4138 [==============================] - 4s 1ms/step - loss: 0.5313 - accuracy: 0.9896 - val_loss: 0.5902 - val_accuracy: 0.9699\n",
      "\n",
      "Epoch 00039: val_accuracy did not improve from 0.96994\n",
      "Epoch 40/50\n",
      "4138/4138 [==============================] - 4s 1ms/step - loss: 0.5277 - accuracy: 0.9896 - val_loss: 0.5923 - val_accuracy: 0.9699\n",
      "\n",
      "Epoch 00040: val_accuracy did not improve from 0.96994\n",
      "Epoch 41/50\n",
      "4138/4138 [==============================] - 4s 1ms/step - loss: 0.5274 - accuracy: 0.9894 - val_loss: 0.5891 - val_accuracy: 0.9675\n",
      "\n",
      "Epoch 00041: val_accuracy did not improve from 0.96994\n",
      "Epoch 42/50\n",
      "4138/4138 [==============================] - 4s 1ms/step - loss: 0.5251 - accuracy: 0.9913 - val_loss: 0.5880 - val_accuracy: 0.9667\n",
      "\n",
      "Epoch 00042: val_accuracy did not improve from 0.96994\n",
      "Epoch 43/50\n",
      "4138/4138 [==============================] - 4s 1ms/step - loss: 0.5218 - accuracy: 0.9923 - val_loss: 0.5926 - val_accuracy: 0.9699\n",
      "\n",
      "Epoch 00043: val_accuracy did not improve from 0.96994\n",
      "Epoch 44/50\n",
      "4138/4138 [==============================] - 4s 1ms/step - loss: 0.5213 - accuracy: 0.9925 - val_loss: 0.5917 - val_accuracy: 0.9651\n",
      "\n",
      "Epoch 00044: val_accuracy did not improve from 0.96994\n",
      "Epoch 45/50\n",
      "4138/4138 [==============================] - 4s 1ms/step - loss: 0.5218 - accuracy: 0.9918 - val_loss: 0.5868 - val_accuracy: 0.9699\n",
      "\n",
      "Epoch 00045: val_accuracy did not improve from 0.96994\n",
      "Epoch 46/50\n",
      "4138/4138 [==============================] - 4s 1ms/step - loss: 0.5177 - accuracy: 0.9925 - val_loss: 0.5869 - val_accuracy: 0.9708\n",
      "\n",
      "Epoch 00046: val_accuracy improved from 0.96994 to 0.97076, saving model to ../data/data0a/top_model_weights.h5\n",
      "Epoch 47/50\n",
      "4138/4138 [==============================] - 4s 1ms/step - loss: 0.5172 - accuracy: 0.9918 - val_loss: 0.5860 - val_accuracy: 0.9716\n",
      "\n",
      "Epoch 00047: val_accuracy improved from 0.97076 to 0.97157, saving model to ../data/data0a/top_model_weights.h5\n",
      "Epoch 48/50\n",
      "4138/4138 [==============================] - 4s 1ms/step - loss: 0.5169 - accuracy: 0.9920 - val_loss: 0.5872 - val_accuracy: 0.9683\n",
      "\n",
      "Epoch 00048: val_accuracy did not improve from 0.97157\n",
      "Epoch 49/50\n",
      "4138/4138 [==============================] - 4s 1ms/step - loss: 0.5179 - accuracy: 0.9923 - val_loss: 0.5869 - val_accuracy: 0.9667\n",
      "\n",
      "Epoch 00049: val_accuracy did not improve from 0.97157\n",
      "Epoch 50/50\n",
      "4138/4138 [==============================] - 4s 1ms/step - loss: 0.5140 - accuracy: 0.9928 - val_loss: 0.5851 - val_accuracy: 0.9716\n",
      "\n",
      "Epoch 00050: val_accuracy did not improve from 0.97157\n"
     ]
    }
   ],
   "source": [
    "d1a_model1, d1a_history1 = train_binary_model()"
   ]
  },
  {
   "cell_type": "markdown",
   "metadata": {},
   "source": [
    "### 5. Metrics of the model"
   ]
  },
  {
   "cell_type": "code",
   "execution_count": 28,
   "metadata": {
    "scrolled": false
   },
   "outputs": [
    {
     "name": "stdout",
     "output_type": "stream",
     "text": [
      "Best Model:\n",
      "epoch: 47 , val_acc: 0.9715678095817566 , val_loss: 0.5860006455770844\n"
     ]
    },
    {
     "data": {
      "image/png": "[encoded data removed]",
      "text/plain": [
       "<Figure size 720x288 with 2 Axes>"
      ]
     },
     "metadata": {
      "needs_background": "light"
     },
     "output_type": "display_data"
    }
   ],
   "source": [
    "# Let's see the first results\n",
    "\n",
    "plot_metrics(d1a_history1) # rmsprop, sigmoid, no regularization"
   ]
  },
  {
   "cell_type": "markdown",
   "metadata": {},
   "source": [
    "### 6. Fine Tuning"
   ]
  },
  {
   "cell_type": "code",
   "execution_count": null,
   "metadata": {
    "scrolled": true
   },
   "outputs": [
    {
     "name": "stderr",
     "output_type": "stream",
     "text": [
      "C:\\ProgramData\\Anaconda3\\envs\\py37_test\\lib\\site-packages\\ipykernel_launcher.py:7: UserWarning: Update your `Conv2D` call to the Keras 2 API: `Conv2D(64, (3, 3), activation=\"relu\")`\n",
      "  import sys\n",
      "C:\\ProgramData\\Anaconda3\\envs\\py37_test\\lib\\site-packages\\ipykernel_launcher.py:9: UserWarning: Update your `Conv2D` call to the Keras 2 API: `Conv2D(64, (3, 3), activation=\"relu\")`\n",
      "  if __name__ == '__main__':\n",
      "C:\\ProgramData\\Anaconda3\\envs\\py37_test\\lib\\site-packages\\ipykernel_launcher.py:13: UserWarning: Update your `Conv2D` call to the Keras 2 API: `Conv2D(128, (3, 3), activation=\"relu\")`\n",
      "  del sys.path[0]\n",
      "C:\\ProgramData\\Anaconda3\\envs\\py37_test\\lib\\site-packages\\ipykernel_launcher.py:15: UserWarning: Update your `Conv2D` call to the Keras 2 API: `Conv2D(128, (3, 3), activation=\"relu\")`\n",
      "  from ipykernel import kernelapp as app\n",
      "C:\\ProgramData\\Anaconda3\\envs\\py37_test\\lib\\site-packages\\ipykernel_launcher.py:19: UserWarning: Update your `Conv2D` call to the Keras 2 API: `Conv2D(256, (3, 3), activation=\"relu\")`\n",
      "C:\\ProgramData\\Anaconda3\\envs\\py37_test\\lib\\site-packages\\ipykernel_launcher.py:21: UserWarning: Update your `Conv2D` call to the Keras 2 API: `Conv2D(256, (3, 3), activation=\"relu\")`\n",
      "C:\\ProgramData\\Anaconda3\\envs\\py37_test\\lib\\site-packages\\ipykernel_launcher.py:23: UserWarning: Update your `Conv2D` call to the Keras 2 API: `Conv2D(256, (3, 3), activation=\"relu\")`\n",
      "C:\\ProgramData\\Anaconda3\\envs\\py37_test\\lib\\site-packages\\ipykernel_launcher.py:27: UserWarning: Update your `Conv2D` call to the Keras 2 API: `Conv2D(512, (3, 3), activation=\"relu\")`\n",
      "C:\\ProgramData\\Anaconda3\\envs\\py37_test\\lib\\site-packages\\ipykernel_launcher.py:29: UserWarning: Update your `Conv2D` call to the Keras 2 API: `Conv2D(512, (3, 3), activation=\"relu\")`\n",
      "C:\\ProgramData\\Anaconda3\\envs\\py37_test\\lib\\site-packages\\ipykernel_launcher.py:31: UserWarning: Update your `Conv2D` call to the Keras 2 API: `Conv2D(512, (3, 3), activation=\"relu\")`\n",
      "C:\\ProgramData\\Anaconda3\\envs\\py37_test\\lib\\site-packages\\ipykernel_launcher.py:35: UserWarning: Update your `Conv2D` call to the Keras 2 API: `Conv2D(512, (3, 3), activation=\"relu\")`\n",
      "C:\\ProgramData\\Anaconda3\\envs\\py37_test\\lib\\site-packages\\ipykernel_launcher.py:37: UserWarning: Update your `Conv2D` call to the Keras 2 API: `Conv2D(512, (3, 3), activation=\"relu\")`\n",
      "C:\\ProgramData\\Anaconda3\\envs\\py37_test\\lib\\site-packages\\ipykernel_launcher.py:39: UserWarning: Update your `Conv2D` call to the Keras 2 API: `Conv2D(512, (3, 3), activation=\"relu\")`\n",
      "C:\\ProgramData\\Anaconda3\\envs\\py37_test\\lib\\site-packages\\ipykernel_launcher.py:7: UserWarning: Update your `Dense` call to the Keras 2 API: `Dense(256, activation=\"relu\", kernel_regularizer=<keras.reg...)`\n",
      "  import sys\n"
     ]
    },
    {
     "name": "stdout",
     "output_type": "stream",
     "text": [
      "Found 4138 images belonging to 2 classes.\n",
      "Found 1231 images belonging to 2 classes.\n"
     ]
    },
    {
     "name": "stderr",
     "output_type": "stream",
     "text": [
      "C:\\ProgramData\\Anaconda3\\envs\\py37_test\\lib\\site-packages\\ipykernel_launcher.py:60: UserWarning: The semantics of the Keras 2 argument `steps_per_epoch` is not the same as the Keras 1 argument `samples_per_epoch`. `steps_per_epoch` is the number of batches to draw from the generator at each epoch. Basically steps_per_epoch = samples_per_epoch/batch_size. Similarly `nb_val_samples`->`validation_steps` and `val_samples`->`steps` arguments have changed. Update your method calls accordingly.\n",
      "C:\\ProgramData\\Anaconda3\\envs\\py37_test\\lib\\site-packages\\ipykernel_launcher.py:60: UserWarning: Update your `fit_generator` call to the Keras 2 API: `fit_generator(<keras.pre..., validation_data=<keras.pre..., verbose=1, callbacks=[<keras.ca..., steps_per_epoch=517, epochs=50, validation_steps=1231)`\n"
     ]
    },
    {
     "name": "stdout",
     "output_type": "stream",
     "text": [
      "Epoch 1/50\n",
      "517/517 [==============================] - 171s 331ms/step - loss: 0.6755 - accuracy: 0.9235 - val_loss: 0.4884 - val_accuracy: 0.9675\n",
      "\n",
      "Epoch 00001: val_accuracy improved from -inf to 0.96748, saving model to ../data/data0a/ft_model.h5\n",
      "Epoch 2/50\n",
      "517/517 [==============================] - 175s 339ms/step - loss: 0.6553 - accuracy: 0.9354 - val_loss: 0.5035 - val_accuracy: 0.9618\n",
      "\n",
      "Epoch 00002: val_accuracy did not improve from 0.96748\n",
      "Epoch 3/50\n",
      "517/517 [==============================] - 174s 337ms/step - loss: 0.6538 - accuracy: 0.9354 - val_loss: 0.4965 - val_accuracy: 0.9718\n",
      "\n",
      "Epoch 00003: val_accuracy improved from 0.96748 to 0.97185, saving model to ../data/data0a/ft_model.h5\n",
      "Epoch 4/50\n",
      "517/517 [==============================] - 172s 333ms/step - loss: 0.6397 - accuracy: 0.9426 - val_loss: 0.5927 - val_accuracy: 0.9712\n",
      "\n",
      "Epoch 00004: val_accuracy did not improve from 0.97185\n",
      "Epoch 5/50\n",
      "517/517 [==============================] - 174s 337ms/step - loss: 0.6392 - accuracy: 0.9387 - val_loss: 1.7018 - val_accuracy: 0.9734\n",
      "\n",
      "Epoch 00005: val_accuracy improved from 0.97185 to 0.97337, saving model to ../data/data0a/ft_model.h5\n",
      "Epoch 6/50\n",
      "517/517 [==============================] - 174s 336ms/step - loss: 0.6200 - accuracy: 0.9508 - val_loss: 0.5000 - val_accuracy: 0.9715\n",
      "\n",
      "Epoch 00006: val_accuracy did not improve from 0.97337\n",
      "Epoch 7/50\n",
      "517/517 [==============================] - 174s 336ms/step - loss: 0.6276 - accuracy: 0.9462 - val_loss: 0.8762 - val_accuracy: 0.9732\n",
      "\n",
      "Epoch 00007: val_accuracy did not improve from 0.97337\n",
      "Epoch 8/50\n",
      "517/517 [==============================] - 173s 335ms/step - loss: 0.6154 - accuracy: 0.9499 - val_loss: 0.4877 - val_accuracy: 0.9733\n",
      "\n",
      "Epoch 00008: val_accuracy did not improve from 0.97337\n",
      "Epoch 9/50\n",
      "517/517 [==============================] - 177s 342ms/step - loss: 0.6095 - accuracy: 0.9569 - val_loss: 0.4838 - val_accuracy: 0.9771\n",
      "\n",
      "Epoch 00009: val_accuracy improved from 0.97337 to 0.97713, saving model to ../data/data0a/ft_model.h5\n",
      "Epoch 10/50\n",
      "517/517 [==============================] - 173s 335ms/step - loss: 0.6125 - accuracy: 0.9490 - val_loss: 0.4840 - val_accuracy: 0.9742\n",
      "\n",
      "Epoch 00010: val_accuracy did not improve from 0.97713\n",
      "Epoch 11/50\n",
      "517/517 [==============================] - 174s 336ms/step - loss: 0.6043 - accuracy: 0.9537 - val_loss: 1.2151 - val_accuracy: 0.9771\n",
      "\n",
      "Epoch 00011: val_accuracy did not improve from 0.97713\n",
      "Epoch 12/50\n",
      "517/517 [==============================] - 172s 333ms/step - loss: 0.5991 - accuracy: 0.9586 - val_loss: 0.9977 - val_accuracy: 0.9755\n",
      "\n",
      "Epoch 00012: val_accuracy did not improve from 0.97713\n",
      "Epoch 13/50\n",
      "517/517 [==============================] - 175s 338ms/step - loss: 0.6034 - accuracy: 0.9545 - val_loss: 0.5019 - val_accuracy: 0.9747\n",
      "\n",
      "Epoch 00013: val_accuracy did not improve from 0.97713\n",
      "Epoch 14/50\n",
      "517/517 [==============================] - 172s 332ms/step - loss: 0.5991 - accuracy: 0.9579 - val_loss: 0.5026 - val_accuracy: 0.9762\n",
      "\n",
      "Epoch 00014: val_accuracy did not improve from 0.97713\n",
      "Epoch 15/50\n",
      "517/517 [==============================] - 172s 333ms/step - loss: 0.5977 - accuracy: 0.9586 - val_loss: 0.4855 - val_accuracy: 0.9747\n",
      "\n",
      "Epoch 00015: val_accuracy did not improve from 0.97713\n",
      "Epoch 16/50\n",
      "517/517 [==============================] - 170s 329ms/step - loss: 0.5868 - accuracy: 0.9654 - val_loss: 0.4827 - val_accuracy: 0.9746\n",
      "\n",
      "Epoch 00016: val_accuracy did not improve from 0.97713\n",
      "Epoch 17/50\n",
      "517/517 [==============================] - 172s 333ms/step - loss: 0.5894 - accuracy: 0.9617 - val_loss: 0.4964 - val_accuracy: 0.9753\n",
      "\n",
      "Epoch 00017: val_accuracy did not improve from 0.97713\n",
      "Epoch 18/50\n",
      "517/517 [==============================] - 173s 335ms/step - loss: 0.5988 - accuracy: 0.9593 - val_loss: 0.4855 - val_accuracy: 0.9724\n",
      "\n",
      "Epoch 00018: val_accuracy did not improve from 0.97713\n",
      "Epoch 19/50\n",
      "517/517 [==============================] - 172s 333ms/step - loss: 0.5835 - accuracy: 0.9651 - val_loss: 0.4841 - val_accuracy: 0.9768\n",
      "\n",
      "Epoch 00019: val_accuracy did not improve from 0.97713\n",
      "Epoch 20/50\n",
      "517/517 [==============================] - 172s 332ms/step - loss: 0.5859 - accuracy: 0.9627 - val_loss: 0.4832 - val_accuracy: 0.9750\n",
      "\n",
      "Epoch 00020: val_accuracy did not improve from 0.97713\n",
      "Epoch 21/50\n",
      "517/517 [==============================] - 173s 334ms/step - loss: 0.5809 - accuracy: 0.9656 - val_loss: 0.4833 - val_accuracy: 0.9754\n",
      "\n",
      "Epoch 00021: val_accuracy did not improve from 0.97713\n",
      "Epoch 22/50\n",
      "517/517 [==============================] - 170s 329ms/step - loss: 0.5810 - accuracy: 0.9649 - val_loss: 0.4912 - val_accuracy: 0.9759\n",
      "\n",
      "Epoch 00022: val_accuracy did not improve from 0.97713\n",
      "Epoch 23/50\n",
      "517/517 [==============================] - 172s 332ms/step - loss: 0.5899 - accuracy: 0.9588 - val_loss: 0.4887 - val_accuracy: 0.9762\n",
      "\n",
      "Epoch 00023: val_accuracy did not improve from 0.97713\n",
      "Epoch 24/50\n",
      "517/517 [==============================] - 171s 330ms/step - loss: 0.5794 - accuracy: 0.9630 - val_loss: 0.4899 - val_accuracy: 0.9772\n",
      "\n",
      "Epoch 00024: val_accuracy improved from 0.97713 to 0.97724, saving model to ../data/data0a/ft_model.h5\n",
      "Epoch 25/50\n",
      "517/517 [==============================] - 172s 333ms/step - loss: 0.5777 - accuracy: 0.9649 - val_loss: 0.6977 - val_accuracy: 0.9730\n",
      "\n",
      "Epoch 00025: val_accuracy did not improve from 0.97724\n",
      "Epoch 26/50\n",
      "517/517 [==============================] - 170s 329ms/step - loss: 0.5791 - accuracy: 0.9683 - val_loss: 0.4817 - val_accuracy: 0.9757\n",
      "\n",
      "Epoch 00026: val_accuracy did not improve from 0.97724\n",
      "Epoch 27/50\n",
      "517/517 [==============================] - 172s 333ms/step - loss: 0.5728 - accuracy: 0.9678 - val_loss: 0.8552 - val_accuracy: 0.9765\n",
      "\n",
      "Epoch 00027: val_accuracy did not improve from 0.97724\n",
      "Epoch 28/50\n",
      "517/517 [==============================] - 172s 332ms/step - loss: 0.5800 - accuracy: 0.9634 - val_loss: 0.4837 - val_accuracy: 0.9754\n",
      "\n",
      "Epoch 00028: val_accuracy did not improve from 0.97724\n",
      "Epoch 29/50\n",
      "517/517 [==============================] - 171s 331ms/step - loss: 0.5699 - accuracy: 0.9680 - val_loss: 0.6113 - val_accuracy: 0.9774\n",
      "\n",
      "Epoch 00029: val_accuracy improved from 0.97724 to 0.97744, saving model to ../data/data0a/ft_model.h5\n",
      "Epoch 30/50\n",
      "517/517 [==============================] - 171s 331ms/step - loss: 0.5848 - accuracy: 0.9649 - val_loss: 0.7458 - val_accuracy: 0.9775\n",
      "\n",
      "Epoch 00030: val_accuracy improved from 0.97744 to 0.97754, saving model to ../data/data0a/ft_model.h5\n",
      "Epoch 31/50\n",
      "517/517 [==============================] - 173s 334ms/step - loss: 0.5743 - accuracy: 0.9678 - val_loss: 0.4865 - val_accuracy: 0.9765\n",
      "\n",
      "Epoch 00031: val_accuracy did not improve from 0.97754\n",
      "Epoch 32/50\n",
      "517/517 [==============================] - 171s 330ms/step - loss: 0.5699 - accuracy: 0.9709 - val_loss: 0.4879 - val_accuracy: 0.9753\n",
      "\n",
      "Epoch 00032: val_accuracy did not improve from 0.97754\n",
      "Epoch 33/50\n",
      "517/517 [==============================] - 172s 334ms/step - loss: 0.5679 - accuracy: 0.9702 - val_loss: 0.4842 - val_accuracy: 0.9767\n",
      "\n",
      "Epoch 00033: val_accuracy did not improve from 0.97754\n",
      "Epoch 34/50\n",
      "517/517 [==============================] - 170s 329ms/step - loss: 0.5707 - accuracy: 0.9692 - val_loss: 0.4866 - val_accuracy: 0.9763\n",
      "\n",
      "Epoch 00034: val_accuracy did not improve from 0.97754\n",
      "Epoch 35/50\n",
      "517/517 [==============================] - 171s 330ms/step - loss: 0.5641 - accuracy: 0.9709 - val_loss: 0.8689 - val_accuracy: 0.9783\n",
      "\n",
      "Epoch 00035: val_accuracy improved from 0.97754 to 0.97825, saving model to ../data/data0a/ft_model.h5\n",
      "Epoch 36/50\n",
      "517/517 [==============================] - 172s 332ms/step - loss: 0.5583 - accuracy: 0.9743 - val_loss: 0.5019 - val_accuracy: 0.9763\n",
      "\n",
      "Epoch 00036: val_accuracy did not improve from 0.97825\n",
      "Epoch 37/50\n",
      "517/517 [==============================] - 171s 330ms/step - loss: 0.5580 - accuracy: 0.9753 - val_loss: 0.4814 - val_accuracy: 0.9766\n",
      "\n",
      "Epoch 00037: val_accuracy did not improve from 0.97825\n",
      "Epoch 38/50\n",
      "517/517 [==============================] - 173s 335ms/step - loss: 0.5624 - accuracy: 0.9692 - val_loss: 0.5267 - val_accuracy: 0.9776\n",
      "\n",
      "Epoch 00038: val_accuracy did not improve from 0.97825\n",
      "Epoch 39/50\n",
      "517/517 [==============================] - 171s 331ms/step - loss: 0.5612 - accuracy: 0.9731 - val_loss: 0.4913 - val_accuracy: 0.9785\n",
      "\n",
      "Epoch 00039: val_accuracy improved from 0.97825 to 0.97846, saving model to ../data/data0a/ft_model.h5\n",
      "Epoch 40/50\n",
      "517/517 [==============================] - 170s 328ms/step - loss: 0.5638 - accuracy: 0.9722 - val_loss: 0.4816 - val_accuracy: 0.9702\n",
      "\n",
      "Epoch 00040: val_accuracy did not improve from 0.97846\n",
      "Epoch 41/50\n",
      "422/517 [=======================>......] - ETA: 16s - loss: 0.5592 - accuracy: 0.9718"
     ]
    }
   ],
   "source": [
    "nb_epoch = 50\n",
    "ft_model, ft_history = finetune_binary_model()"
   ]
  },
  {
   "cell_type": "markdown",
   "metadata": {},
   "source": [
    "### 7. Metrics of the finetuned model"
   ]
  },
  {
   "cell_type": "code",
   "execution_count": 86,
   "metadata": {},
   "outputs": [
    {
     "name": "stdout",
     "output_type": "stream",
     "text": [
      "Best Model:\n",
      "epoch: 46 , val_acc: 0.9309210777282715 , val_loss: 0.5176084041595459\n"
     ]
    },
    {
     "data": {
      "image/png": "[encoded data removed]",
      "text/plain": [
       "<Figure size 720x288 with 2 Axes>"
      ]
     },
     "metadata": {},
     "output_type": "display_data"
    }
   ],
   "source": [
    "plot_metrics(ft_history)"
   ]
  },
  {
   "cell_type": "markdown",
   "metadata": {},
   "source": [
    "### 8. Confusion matrix"
   ]
  },
  {
   "cell_type": "code",
   "execution_count": 7,
   "metadata": {
    "scrolled": false
   },
   "outputs": [
    {
     "name": "stdout",
     "output_type": "stream",
     "text": [
      "WARNING:tensorflow:From C:\\ProgramData\\Anaconda3\\envs\\py37_test\\lib\\site-packages\\keras\\backend\\tensorflow_backend.py:4070: The name tf.nn.max_pool is deprecated. Please use tf.nn.max_pool2d instead.\n",
      "\n",
      "WARNING:tensorflow:From C:\\ProgramData\\Anaconda3\\envs\\py37_test\\lib\\site-packages\\tensorflow\\python\\ops\\nn_impl.py:180: add_dispatch_support.<locals>.wrapper (from tensorflow.python.ops.array_ops) is deprecated and will be removed in a future version.\n",
      "Instructions for updating:\n",
      "Use tf.where in 2.0, which has the same broadcast rule as np.where\n",
      "WARNING:tensorflow:From C:\\ProgramData\\Anaconda3\\envs\\py37_test\\lib\\site-packages\\keras\\backend\\tensorflow_backend.py:422: The name tf.global_variables is deprecated. Please use tf.compat.v1.global_variables instead.\n",
      "\n"
     ]
    }
   ],
   "source": [
    "# Load the finetuned model\n",
    "\n",
    "ft_model = load_model(location+'/ft_model.h5')"
   ]
  },
  {
   "cell_type": "code",
   "execution_count": 29,
   "metadata": {
    "scrolled": false
   },
   "outputs": [
    {
     "name": "stdout",
     "output_type": "stream",
     "text": [
      "Found 1231 images belonging to 2 classes.\n",
      "\n",
      "              precision    recall  f1-score   support\n",
      "\n",
      "           0       0.97      0.97      0.97       460\n",
      "           1       0.98      0.98      0.98       771\n",
      "\n",
      "    accuracy                           0.98      1231\n",
      "   macro avg       0.98      0.98      0.98      1231\n",
      "weighted avg       0.98      0.98      0.98      1231\n",
      "\n",
      "\n"
     ]
    }
   ],
   "source": [
    "validation_data = pickle.load(open(location+'/bottleneck_features_validation.pickle', 'rb'))\n",
    "validation_labels = np.array([0] * validation_samples[0] + \n",
    "                             [1] * validation_samples[1])\n",
    "cm = evaluate_binary_model(ft_model, validation_data_dir, validation_labels)"
   ]
  },
  {
   "cell_type": "code",
   "execution_count": 30,
   "metadata": {
    "scrolled": false
   },
   "outputs": [],
   "source": [
    "heatmap_labels = ['Car', 'Other']"
   ]
  },
  {
   "cell_type": "code",
   "execution_count": 31,
   "metadata": {},
   "outputs": [
    {
     "data": {
      "text/plain": [
       "(array([0.5, 1.5]), <a list of 2 Text yticklabel objects>)"
      ]
     },
     "execution_count": 31,
     "metadata": {},
     "output_type": "execute_result"
    },
    {
     "data": {
      "image/png": "[encoded data removed]",
      "text/plain": [
       "<Figure size 432x288 with 2 Axes>"
      ]
     },
     "metadata": {
      "needs_background": "light"
     },
     "output_type": "display_data"
    }
   ],
   "source": [
    "ax = sns.heatmap(cm, annot=True, annot_kws={\"size\": 18}, \n",
    "            fmt='g', cmap='OrRd', xticklabels=heatmap_labels, yticklabels=heatmap_labels)\n",
    "\n",
    "ax.set_ylim(2.0, 0)\n",
    "plt.xticks(fontsize=14)\n",
    "plt.yticks(fontsize=14)\n",
    "#ax.set(yticks=[0, 2.0])"
   ]
  }
 ],
 "metadata": {
  "kernelspec": {
   "display_name": "Python 3",
   "language": "python",
   "name": "python3"
  },
  "language_info": {
   "codemirror_mode": {
    "name": "ipython",
    "version": 3
   },
   "file_extension": ".py",
   "mimetype": "text/x-python",
   "name": "python",
   "nbconvert_exporter": "python",
   "pygments_lexer": "ipython3",
   "version": "3.7.4"
  }
 },
 "nbformat": 4,
 "nbformat_minor": 1
}
